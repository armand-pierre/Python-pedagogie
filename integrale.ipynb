{
 "cells": [
  {
   "cell_type": "code",
   "execution_count": null,
   "metadata": {},
   "outputs": [],
   "source": [
    "def int_rectangle(f, a, b, nb_rect=100):\n",
    "    somme_sup, somme_inf = 0,0\n",
    "    largeur_rect = (b-a)/nb_rect\n",
    "    for i in range(nb_rect):\n",
    "        somme_inf += f(a + i*largeur_rect) * largeur_rect\n",
    "        somme_sup += f(a + (i+1)*largeur_rect) * largeur_rect\n",
    "    return (somme_inf, somme_sup)\n",
    "    "
   ]
  },
  {
   "cell_type": "code",
   "execution_count": null,
   "metadata": {},
   "outputs": [],
   "source": [
    "def int_trapeze(f, a, b, nb_rect=100):\n",
    "    somme = 0\n",
    "    largeur = (b-a)/nb_rect\n",
    "    for i in range(nb_rect):\n",
    "        somme += (f(a + i*largeur) + f(a + (i+1)*largeur))/2 * largeur\n",
    "    return somme"
   ]
  },
  {
   "cell_type": "code",
   "execution_count": null,
   "metadata": {},
   "outputs": [],
   "source": [
    "def int_milieux(f, a, b, nb_rect=100):\n",
    "    somme = 0\n",
    "    largeur = (b-a)/nb_rect\n",
    "    for i in range(nb_rect):\n",
    "        somme += f(a + (i+1/2) * largeur) * largeur\n",
    "    return somme"
   ]
  },
  {
   "cell_type": "code",
   "execution_count": 1,
   "metadata": {},
   "outputs": [],
   "source": [
    "from math import sqrt\n",
    "import random\n",
    "\n",
    "def monte_carlo(f, borne_abs, borne_ord, tirs=1000):\n",
    "    touches = 0\n",
    "    x0, x1 = borne_abs\n",
    "    y0, y1 = borne_ord\n",
    "    for _ in range(tirs):\n",
    "        x = random.uniform(x0, x1)\n",
    "        y = random.uniform(y0, y1)\n",
    "        if abs(y - f(x)) <= 0:\n",
    "            touches += 1\n",
    "    return (touches / tirs) * (x1 - x0) * (y1 - y0)\n",
    "\n",
    "def approx_pi(tirs=1000):\n",
    "    touches = 0\n",
    "    for _ in range(tirs):\n",
    "        x = random.uniform(-1, 1)\n",
    "        y = random.uniform(-1, 1)\n",
    "        if sqrt(x**2+y**2) <= 1:\n",
    "            touches += 1\n",
    "    return touches / tirs * 4"
   ]
  }
 ],
 "metadata": {
  "kernelspec": {
   "display_name": "Python 3",
   "language": "python",
   "name": "python3"
  },
  "language_info": {
   "codemirror_mode": {
    "name": "ipython",
    "version": 3
   },
   "file_extension": ".py",
   "mimetype": "text/x-python",
   "name": "python",
   "nbconvert_exporter": "python",
   "pygments_lexer": "ipython3",
   "version": "3.11.3"
  },
  "orig_nbformat": 4
 },
 "nbformat": 4,
 "nbformat_minor": 2
}
