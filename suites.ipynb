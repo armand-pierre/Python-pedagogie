{
 "cells": [
  {
   "cell_type": "code",
   "execution_count": null,
   "metadata": {},
   "outputs": [],
   "source": [
    "def recherche_seuil(suite, limite):\n",
    "    n = 0\n",
    "    while suite(n) < limite:\n",
    "        n += 1\n",
    "    return n, suite(n)"
   ]
  },
  {
   "cell_type": "code",
   "execution_count": null,
   "metadata": {},
   "outputs": [],
   "source": [
    "def racine_carre(x, iterations=100):\n",
    "    a, b = x, 1\n",
    "    for _ in range(iterations):\n",
    "        a = (a+b)/2\n",
    "        b = x/a\n",
    "    return a"
   ]
  },
  {
   "cell_type": "code",
   "execution_count": null,
   "metadata": {},
   "outputs": [],
   "source": [
    "def fibonacci(n):\n",
    "    resultat, suivant = 0, 1\n",
    "    for _ in range(n):\n",
    "        resultat, suivant = suivant, resultat+suivant\n",
    "    return resultat\n",
    "\n",
    "def approx_phi(iterations=100):\n",
    "    return fibonacci(iterations+1)/fibonacci(iterations)"
   ]
  }
 ],
 "metadata": {
  "language_info": {
   "name": "python"
  },
  "orig_nbformat": 4
 },
 "nbformat": 4,
 "nbformat_minor": 2
}
