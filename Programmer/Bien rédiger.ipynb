{
 "cells": [
  {
   "attachments": {},
   "cell_type": "markdown",
   "metadata": {},
   "source": [
    "# Ecrire un bon programme en Python\n",
    "\n",
    "Que l'on apprenne ou que l'on commence à écrire des programmes conséquents, une chose à ne surtout pas négliger est la lisibilité du code.\n",
    "\n",
    "En effet, qui, en travaillant en Python pour un DM, ou pour organiser un cours avec ses élèves, n'a jamais écrit un programme un soir, le sauvegarde, le rouvre plusieurs jours après et doit relire tout le code pour se rappeler de ce qu'il a fait ? Et si ce n'est pas vous qui galérez, pensez à votre professeur, ou à vos collègues de travail qui devront lire votre code ?\n",
    "\n",
    "Tous les programmeurs, amateurs ou professionnel, ont ce même problème, et la Python Software est unanime: un bon code est avant tout un code propre, lisible et clair. Et tout leur travail est de le marteler, et de permettre au langage Python d'accomplir ce but.\n",
    "\n",
    "C'est d'ailleurs ce qui fait que l'Education Nationale a choisi Python comme langage de l'enseignement secondaire: il est populaire, utilisé par des professionnels, mais ils est aussi lisible et clair. Regardez un code en C++ ou JavaScript, c'est une autre paire de manche...\n",
    "\n",
    "Pour cela, voici quelques conventions et astuces à utiliser pour chérir votre oeuvre et susciter l'admiration générale."
   ]
  },
  {
   "attachments": {},
   "cell_type": "markdown",
   "metadata": {},
   "source": [
    "## Quelques conventions\n",
    "\n",
    "Voici quelques petites conventions d'écriture qui bien respectées vous feront apprécié des autres:\n",
    "- **Indentation**: Indentez votre code de 4 espaces, afin de bien distinguer les différents blocs de code. *Astuce*: Sur la plupart des éditeurs de code, utilisez la touche `Tab` pour indenter d'un coup et `Maj+Tab` pour désindenter.\n",
    "- **Nom des variables et fonctions**: Utilisez la convention `nom_de_variables`, en utilisant des minuscules et séparant les mots par des underscores (tirets du 8). Cela aère les noms de variables, tout en étant pas très contraignant. Evitez le plus possible les noms comme `f`, `x`, `a`, et préférez les noms comme `afficher`, `suite`.\n",
    "- **Opérations**: Evitez de coller les calculs (`a = b + c` au lieu de `a=b+c`), cela permet de distinguer plus facilement les variables en jeu. Vous pouvez mettre des parenthèse et exceptionnellement coller les calculs pour souligner la priorité des opérations et quand cela facilite la lecture (ex: `(a+1) * (nb_garcons / total)` au lieu de `(a + 1) * nb_garcons / total`).\n",
    "- Utilisez des variables au lieu d'une longue formule pour améliorer en lisibilité.\n",
    "-"
   ]
  },
  {
   "attachments": {},
   "cell_type": "markdown",
   "metadata": {},
   "source": [
    "## Commentaires\n",
    "\n",
    "Il est possible de laisser des commentaires dans son code, afin d'expliquer des instructions complexes. Il en existe de deux types: les commentaires en ligne et les docstrings"
   ]
  },
  {
   "cell_type": "code",
   "execution_count": null,
   "metadata": {},
   "outputs": [],
   "source": [
    "# Ceci est un commentaire en ligne\n",
    "# Mettez un hashtag, puis écrivez ce que vous voulez\n",
    "# Et recommencer à chaque ligne si nécessaire\n",
    "print(\"Hello world !\")\n",
    "# Les commentaires seront ignorés pendant l'exécution."
   ]
  },
  {
   "attachments": {},
   "cell_type": "markdown",
   "metadata": {},
   "source": [
    "Ces commentaires peuvent être utiles pour expliquer pourquoi cette ligne est là, ou ce qu'elle fait. N'hésitez pas à en mettre là où ce n'est pas évident de comprendre.\n",
    "\n",
    "Les docstrings, eux, sont très intéressants non pas pour expliquer quelques lignes, mais pour expliquer ce que font des fonctions. Ils se présentent comme suit:"
   ]
  },
  {
   "cell_type": "code",
   "execution_count": null,
   "metadata": {},
   "outputs": [],
   "source": [
    "def identique(x):\n",
    "    \"\"\"Renvoie la valeur de x.\"\"\"\n",
    "    return x\n",
    "\n",
    "def hello(prénom):\n",
    "    \"\"\"Renvoie \"Hello\" suivit du prénom.\n",
    "    \n",
    "    prénom: Le prénom d'une personne qu'on veut saluer\n",
    "    \"\"\"\n",
    "    return \"Hello \" + prénom"
   ]
  },
  {
   "attachments": {},
   "cell_type": "markdown",
   "metadata": {},
   "source": [
    "Ils sont créés par trois guillemets `\"\"\"`, et sont très utiles pour décrire plus ou moins une fonction. Pas mal d'éditeurs peuvent même, lorsque vous réutilisez la fonction plus tard, vous redonner le docstring de la fonction ! Prenez l'habitude de décrire comme ceci des fonctions même toutes petites, on vous en remerciera."
   ]
  },
  {
   "attachments": {},
   "cell_type": "markdown",
   "metadata": {},
   "source": [
    "## Annotations de type\n",
    "\n",
    "Enfin, la panacée, la touche finale, la dernière nouveauté de Python: l'annotation de type. Elle consiste à écrire explicitement le type de donnée attendue par une variable que l'on crée ou par les paramètres d'entrée ou de sortie d'une fonction. On la note comme ceci."
   ]
  },
  {
   "cell_type": "code",
   "execution_count": null,
   "metadata": {},
   "outputs": [],
   "source": [
    "# Nom du paramètre: type\n",
    "# \"f(...) -> type de sortie :\"\n",
    "def fonction(entree: int) -> str:\n",
    "    \"\"\"Renvoie ce qui a été mis en entrée.\n",
    "\n",
    "    entrée: Valeur quelqconque, mais supposée être un str\n",
    "    \"\"\"\n",
    "    return \"Entrée: \" + str(entree)\n",
    "\n",
    "# Nom: type\n",
    "# On peut préciser les éléments de la liste entre crochets\n",
    "nom_variable: list[int] = [2, 6, 7]\n",
    "\n",
    "for i in nom_variable:\n",
    "    print(fonction(i))"
   ]
  },
  {
   "attachments": {},
   "cell_type": "markdown",
   "metadata": {},
   "source": [
    "Les annotations ne peuvent être utilisées que lors de la création d'une variable ou d'une fonction. Elles se révelent extrèmement utiles, ajoutées aux docstring et à un joli nom de fonction, pour savoir précisément ce que fait une fonction rien qu'en regardant les premières lignes.\n",
    "\n",
    "Attention: Les annotations n'empêche pas d'utiliser certains types, par exemple je peux faire `fonction(\"Alex\")` sans erreur ! Ils servent juste à l'utilisateur d'être informé, ou à des outils comme mypy de vérifier que ce soit les bons types utilisés."
   ]
  },
  {
   "attachments": {},
   "cell_type": "markdown",
   "metadata": {},
   "source": [
    "## Conclusion\n",
    "\n",
    "Pour conclure, voici un code n'utilisant pas les conventions dites plus haut, comparée à sa version épurée."
   ]
  },
  {
   "cell_type": "code",
   "execution_count": 2,
   "metadata": {},
   "outputs": [
    {
     "name": "stdout",
     "output_type": "stream",
     "text": [
      "2.8284271247461903\n"
     ]
    }
   ],
   "source": [
    "from math import *\n",
    "def n(x, y):\n",
    "  return sqrt(x**2+y**2)\n",
    "def d(p0,p1):\n",
    "  return n(p0[0]-p1[0],p0[1]-p1[1])\n",
    "l=[[1,2],[3,4]]\n",
    "print(d(l[0],l[1]))"
   ]
  },
  {
   "cell_type": "code",
   "execution_count": 4,
   "metadata": {},
   "outputs": [
    {
     "name": "stdout",
     "output_type": "stream",
     "text": [
      "2.8284271247461903\n"
     ]
    }
   ],
   "source": [
    "from math import sqrt\n",
    "\n",
    "def norme(x: float, y: float) -> float:\n",
    "    \"\"\"Retourne la norme d'un vecteur de coordonnées (x,y).\"\"\"\n",
    "    return sqrt(x**2 + y**2)\n",
    "\n",
    "def distance(point_1: list[float], point_2: list[float]) -> float:\n",
    "    \"\"\"Renvoie la distance entre point_1 et point_2.\"\"\"\n",
    "    delta_x = point_1[0] - point_2[0]\n",
    "    delta_y = point_1[1] - point_2[1]\n",
    "    # La distance est la norme du vecteur les séparant\n",
    "    return norme(delta_x, delta_y)\n",
    "\n",
    "# Liste de deux points\n",
    "points: list[ list[float] ]= [[1.0, 2.0], [3.0, 4.0]]\n",
    "print(distance(points[0], points[1]))"
   ]
  },
  {
   "attachments": {},
   "cell_type": "markdown",
   "metadata": {},
   "source": [
    "Le code est certes plus long, mais une fois réalisée, il n'y a plus besoin d'y toucher ! Et vous ferez la joie de ceux qui vous liront."
   ]
  }
 ],
 "metadata": {
  "kernelspec": {
   "display_name": "Python 3",
   "language": "python",
   "name": "python3"
  },
  "language_info": {
   "codemirror_mode": {
    "name": "ipython",
    "version": 3
   },
   "file_extension": ".py",
   "mimetype": "text/x-python",
   "name": "python",
   "nbconvert_exporter": "python",
   "pygments_lexer": "ipython3",
   "version": "3.11.3"
  },
  "orig_nbformat": 4
 },
 "nbformat": 4,
 "nbformat_minor": 2
}
