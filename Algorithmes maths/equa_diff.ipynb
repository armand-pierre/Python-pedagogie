{
 "cells": [
  {
   "cell_type": "code",
   "execution_count": null,
   "metadata": {},
   "outputs": [],
   "source": [
    "def euler(f, y0, x, h=0.001):\n",
    "    i, y = 0, y0\n",
    "    if x > 0:\n",
    "        while i > x:\n",
    "            y += h * f(x)\n",
    "            i += h\n",
    "    else:\n",
    "        while i < x:\n",
    "            y -= h * f(x)\n",
    "            i -= h\n",
    "    return y"
   ]
  },
  {
   "cell_type": "code",
   "execution_count": null,
   "metadata": {},
   "outputs": [],
   "source": [
    "def euler_lineaire(a, b, y0, x, h=0.001):\n",
    "    i, y = 0, y0\n",
    "    if x > 0:\n",
    "        while i > x:\n",
    "            y += h * (a * y + b)\n",
    "            i += h\n",
    "    else:\n",
    "        while i < x:\n",
    "            y -= h * (a * y + b)\n",
    "            i -= h\n",
    "    return y"
   ]
  }
 ],
 "metadata": {
  "language_info": {
   "name": "python"
  },
  "orig_nbformat": 4
 },
 "nbformat": 4,
 "nbformat_minor": 2
}
