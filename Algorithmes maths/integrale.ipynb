{
 "cells": [
  {
   "attachments": {},
   "cell_type": "markdown",
   "metadata": {},
   "source": [
    "# Intégration"
   ]
  },
  {
   "attachments": {},
   "cell_type": "markdown",
   "metadata": {},
   "source": [
    "## Intégrale comme limite d'une somme\n",
    "\n",
    "La manière la plus naturelle de comprendre les intégrales est en la définissant comme l'aire sous une fonction, que l'on peut calculer en faisant la somme de rectangles et en en calculant la limite.\n",
    "\n",
    "Soit $f$ une fonction réelle continue, ainsi:\n",
    "$$\\int_a^b f(x) dx = \\lim_{n \\to +\\infty} \\sum_{i=0}^{n-1} \\frac{b-a}{n} \\times f(a+i \\frac{b-a}{n})$$\n",
    "où $\\frac{b-a}{n}$ représente intuitivement la largeur de chaque rectangle. Ainsi, plus les largeurs diminueront, plus l'écart entre cette somme et l'aire sera négligeable, et tendront à être égales.\n",
    "\n",
    "On pourrait alors visualiser cela, en calculant les approximations successives avec Python et voyant qu'elles convergent.\n",
    "\n",
    "Le programme ci-dessous calcule la somme données ci-dessous, mais en calcule aussi une seconde, lègerement différente:\n",
    "$$\\int_a^b f(x) dx = \\lim_{n \\to +\\infty} \\sum_{i=0}^{n-1} \\frac{b-a}{n} \\times f(a+(i+1) \\frac{b-a}{n})$$\n",
    "Ici, au lieu de donner la hauteur de chaque rectangle \"par la gauche\" de celui-ci, on l'a \"par la droite\". Cela donne deux sommes, qui convergeront vers une même limite, et encadrent l'aire de la courbe. "
   ]
  },
  {
   "cell_type": "code",
   "execution_count": 3,
   "metadata": {},
   "outputs": [],
   "source": [
    "def int_rectangle(f, a, b, nb_rect=100):\n",
    "    somme_sup, somme_inf = 0,0\n",
    "    largeur_rect = (b-a)/nb_rect\n",
    "    for i in range(nb_rect):\n",
    "        somme_inf += f(a + i*largeur_rect) * largeur_rect\n",
    "        somme_sup += f(a + (i+1)*largeur_rect) * largeur_rect\n",
    "    return (somme_inf, somme_sup)\n",
    "    "
   ]
  },
  {
   "attachments": {},
   "cell_type": "markdown",
   "metadata": {},
   "source": [
    "Remarquons aussi qu'une autre méthode existe, celle \"des milieux\", prenant comme hauteur le milieu du rectangle."
   ]
  },
  {
   "cell_type": "code",
   "execution_count": 4,
   "metadata": {},
   "outputs": [],
   "source": [
    "def int_milieux(f, a, b, nb_rect=100):\n",
    "    somme = 0\n",
    "    largeur = (b-a)/nb_rect\n",
    "    for i in range(nb_rect):\n",
    "        somme += f(a + (i+1/2) * largeur) * largeur\n",
    "    return somme"
   ]
  },
  {
   "attachments": {},
   "cell_type": "markdown",
   "metadata": {},
   "source": [
    "Une autre n'utilise non pas la formule du rectangle, mais la formule du trapèze, et calcule la somme de trapèzes suivant la courbe.\n",
    "$$\\int_a^b f(x) dx = \\lim_{n \\to +\\infty} \\sum_{i=0}^{n-1} \\frac{b-a}{n} \\times \\frac{f(a+(i+1) \\frac{b-a}{n}) + f(a+i \\frac{b-a}{n})}{2}$$\n",
    "\n",
    "Cette dernière permet d'obtenir en générale des approximations très légèrement plus précises pour un même $n$ donné."
   ]
  },
  {
   "cell_type": "code",
   "execution_count": 5,
   "metadata": {},
   "outputs": [],
   "source": [
    "def int_trapeze(f, a, b, nb_rect=100):\n",
    "    somme = 0\n",
    "    largeur = (b-a)/nb_rect\n",
    "    for i in range(nb_rect):\n",
    "        somme += (f(a + i*largeur) + f(a + (i+1)*largeur))/2 * largeur\n",
    "    return somme"
   ]
  },
  {
   "attachments": {},
   "cell_type": "markdown",
   "metadata": {},
   "source": [
    "## Calculer... en tirant des fléchettes\n",
    "\n",
    "Maintenant que nous avons vu les manières rigoureuses de calculer des intégrales, voyons une approche plus originale: [la méthode de Monte-Carlo](https://fr.wikipedia.org/wiki/M%C3%A9thode_de_Monte-Carlo).\n",
    "\n",
    "Cette méthode, tirant son nom du [Casino de Monte-Carlo](https://fr.wikipedia.org/wiki/Casino_de_Monte-Carlo), désigne plusieurs algorithmes faisant des calculs à partir du hasard.\n",
    "\n",
    "Imaginons que nous voulons calculer l'aire sous une courbe dans un cadre précis (entre $x_0$ et $x_1$ en abscisse et $y_0$ et $y_1$ en ordonnée). Nous allons alors tirer de manière homogène des \"fléchettes\", avec des coordonnées $(x,y)$, et regarder quelle proportion est parvenue dans l'aire que l'on cherche. En tirant suffisamment de fléchettes, il suffira de calculer $p \\times A$, avec $p$ la proportion de touchés et $A$ l'aire du cadre, pour estimer l'aire sous la courbe.\n",
    "\n",
    "Par exemple, si le cadre a une aire de $4$, et que la proportion de touchés est $p=0.5$, alors l'aire sous la courbe est de $0.5 \\times 4 = 2$."
   ]
  },
  {
   "cell_type": "code",
   "execution_count": 6,
   "metadata": {},
   "outputs": [],
   "source": [
    "from math import sqrt\n",
    "import random\n",
    "\n",
    "def monte_carlo(f, borne_abs, borne_ord, tirs=1000):\n",
    "    touches = 0\n",
    "    x0, x1 = borne_abs\n",
    "    y0, y1 = borne_ord\n",
    "    for _ in range(tirs):\n",
    "        x = random.uniform(x0, x1)\n",
    "        y = random.uniform(y0, y1)\n",
    "        if abs(y - f(x)) <= 0:\n",
    "            touches += 1\n",
    "    return (touches / tirs) * (x1 - x0) * (y1 - y0)"
   ]
  },
  {
   "attachments": {},
   "cell_type": "markdown",
   "metadata": {},
   "source": [
    "Cette méthode permet non seulement de calculer l'aire sous une courbe de la forme $y=f(x)$, mais d'aires en général.\n",
    "\n",
    "Par exemple, l'algorithme ci-dessous tirent des fléchettes dans un carré de 2x2, et calcule la proportion entrant dans un cercle de rayon 1. L'aire du cercle est normalement de $\\pi \\times 1^2 = \\pi$, donc cet algorithme permet d'estimer le nombre $\\pi$ !"
   ]
  },
  {
   "cell_type": "code",
   "execution_count": 7,
   "metadata": {},
   "outputs": [],
   "source": [
    "def approx_pi(tirs=1000):\n",
    "    touches = 0\n",
    "    for _ in range(tirs):\n",
    "        x = random.uniform(-1, 1)\n",
    "        y = random.uniform(-1, 1)\n",
    "        if sqrt(x**2+y**2) <= 1:\n",
    "            touches += 1\n",
    "    return touches / tirs * 4"
   ]
  },
  {
   "cell_type": "code",
   "execution_count": 9,
   "metadata": {},
   "outputs": [
    {
     "data": {
      "text/plain": [
       "3.1324"
      ]
     },
     "execution_count": 9,
     "metadata": {},
     "output_type": "execute_result"
    }
   ],
   "source": [
    "approx_pi(10000)"
   ]
  },
  {
   "attachments": {},
   "cell_type": "markdown",
   "metadata": {},
   "source": [
    "Voici un graphique donnant des approximations de $\\pi$ par cette technique en fonction du nombre de tirs:"
   ]
  },
  {
   "cell_type": "code",
   "execution_count": 13,
   "metadata": {},
   "outputs": [
    {
     "data": {
      "text/plain": [
       "<matplotlib.collections.PathCollection at 0x1e1f1394c50>"
      ]
     },
     "execution_count": 13,
     "metadata": {},
     "output_type": "execute_result"
    },
    {
     "data": {
      "image/png": "[encoded data removed]",
      "text/plain": [
       "<Figure size 640x480 with 1 Axes>"
      ]
     },
     "metadata": {},
     "output_type": "display_data"
    }
   ],
   "source": [
    "import matplotlib.pyplot as plt\n",
    "\n",
    "x = list(range(10, 10000, 10))\n",
    "y = [approx_pi(n) for n in x]\n",
    "plt.scatter(x, y)"
   ]
  },
  {
   "attachments": {},
   "cell_type": "markdown",
   "metadata": {},
   "source": [
    "Ces approximations ne sont pas phénoménales, mais la méthode mérite d'être mentionnée !"
   ]
  },
  {
   "cell_type": "markdown",
   "metadata": {},
   "source": []
  }
 ],
 "metadata": {
  "kernelspec": {
   "display_name": "Python 3",
   "language": "python",
   "name": "python3"
  },
  "language_info": {
   "codemirror_mode": {
    "name": "ipython",
    "version": 3
   },
   "file_extension": ".py",
   "mimetype": "text/x-python",
   "name": "python",
   "nbconvert_exporter": "python",
   "pygments_lexer": "ipython3",
   "version": "3.11.3"
  },
  "orig_nbformat": 4
 },
 "nbformat": 4,
 "nbformat_minor": 2
}
