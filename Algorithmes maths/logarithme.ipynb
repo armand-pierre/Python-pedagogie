{
 "cells": [
  {
   "cell_type": "code",
   "execution_count": null,
   "metadata": {},
   "outputs": [],
   "source": [
    "from math import sqrt\n",
    "\n",
    "def briggs(x, iterations=100):\n",
    "    a, b = 1, 10\n",
    "    log_a, log_b = 0, 1\n",
    "    for _ in range(iterations):\n",
    "        log_c = (log_a + log_b) / 2\n",
    "        c = sqrt(a * b)\n",
    "        if c > x:\n",
    "            b, log_b = c, log_c\n",
    "        else:\n",
    "            a, log_a = c, log_c\n",
    "    return (log_a + log_b) / 2"
   ]
  }
 ],
 "metadata": {
  "language_info": {
   "name": "python"
  },
  "orig_nbformat": 4
 },
 "nbformat": 4,
 "nbformat_minor": 2
}
