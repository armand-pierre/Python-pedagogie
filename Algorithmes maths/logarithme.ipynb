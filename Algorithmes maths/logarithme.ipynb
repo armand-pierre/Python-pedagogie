{
 "cells": [
  {
   "attachments": {},
   "cell_type": "markdown",
   "metadata": {},
   "source": [
    "# Logarithmes\n",
    "\n",
    "Les fonctions $\\ln$ et $\\log_{10}$ ont eu une importance capitale en mathématiques et en sciences en générale, simplifiant les calculs des physiciens. En effet, puisque $\\ln(ab)=\\ln(a) + \\ln(b)$, pour effectuer la multiplication de deux grands nombres $a$ et $b$, il suffisait de prendre leurs logarithmes (déjà moins grands), de les ajouter (ce qui est plus rapide que de multiplier) et de trouver le nombre ayant ce logarithme (en réalité, faire une exponentiation).\n",
    "\n",
    "Mais comment calculer $\\log_{10}(x)$ ? On connait facilement ceux des puissances de 10, car $\\log_{10}(10^n) = n$, et par exemple $\\log_{10}(200) = \\log_{10}(2) + 2$, mais que vaut $\\log_{10}(2)$ ?\n",
    "\n",
    "Pour cela, Briggs, un camarade de Néper, inventeur des logarithmes, mettra au point des algorithmes, dont celui de Briggs-Vlacq, dont l'idée se rapproche de l'algorithme de dichotomie. Voici l'idée:\n",
    "- On encadre $x$ entre deux nombres $a$ et $b$ dont on connait les logartithmes. Par exemple, $1 < 2 \\leq 10$, donc $0 < \\log_{10}(2) \\leq 1$.\n",
    "- On va raccourcir cet intervalle en calculant son milieux: $m = \\frac{\\log_{10}(a) + \\log_{10}(b)}{2} = \\log_{10}(\\sqrt{ab})$.\n",
    "- Pour savoir si ce milieu est au-dessus ou en-dessous de $\\log_{10}(x)$, il faut alors comparer $\\sqrt{ab}$ et $x$. Si $\\sqrt{ab} \\geq x$, $a < x \\leq m$, sinon $m < x \\leq b$.\n",
    "- On répète ceci, pour affiner notre extimation."
   ]
  },
  {
   "cell_type": "code",
   "execution_count": 4,
   "metadata": {},
   "outputs": [
    {
     "name": "stdout",
     "output_type": "stream",
     "text": [
      "(0.3010292053222656, 0.30103111267089844)\n",
      "Valeur calculée avec log10: 0.3010299956639812\n"
     ]
    }
   ],
   "source": [
    "from math import sqrt, log10\n",
    "\n",
    "def briggs(x: float, iterations=20):\n",
    "    \"\"\"Renvoie un encadrement de log10(x).\n",
    "\n",
    "    x doit être un nombre compris dans [1;+inf[.\n",
    "    \"\"\"\n",
    "    # Initialisation\n",
    "    log_a = 0\n",
    "    log_b = len(str(x))+1 # Donne une borne sup à log10(x) avec son nombre de chiffres.\n",
    "    a, b = 1, 10**log_b\n",
    "    # Itération de la dichotomie\n",
    "    for _ in range(iterations):\n",
    "        log_m = (log_a + log_b) / 2\n",
    "        m = sqrt(a * b)\n",
    "        if m > x:\n",
    "            b, log_b = m, log_m\n",
    "        else:\n",
    "            a, log_a = m, log_m\n",
    "    return log_a, log_b\n",
    "\n",
    "print(briggs(2))\n",
    "print(\"Valeur calculée avec log10:\", log10(2))"
   ]
  },
  {
   "attachments": {},
   "cell_type": "markdown",
   "metadata": {},
   "source": [
    "On obtient très rapidement des estimations très précises du logarithme ! L'encadrement du logarithme divise par 2 à chaque itérations. C'est très souhaitable, lorsque l'on calcule *à la main* le logarithme, et que le calcul d'une racine carré à la main n'est pas si évident..."
   ]
  }
 ],
 "metadata": {
  "kernelspec": {
   "display_name": "Python 3",
   "language": "python",
   "name": "python3"
  },
  "language_info": {
   "codemirror_mode": {
    "name": "ipython",
    "version": 3
   },
   "file_extension": ".py",
   "mimetype": "text/x-python",
   "name": "python",
   "nbconvert_exporter": "python",
   "pygments_lexer": "ipython3",
   "version": "3.11.3"
  },
  "orig_nbformat": 4
 },
 "nbformat": 4,
 "nbformat_minor": 2
}
