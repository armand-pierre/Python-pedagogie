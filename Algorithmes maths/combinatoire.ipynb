{
 "cells": [
  {
   "cell_type": "code",
   "execution_count": null,
   "metadata": {},
   "outputs": [],
   "source": [
    "def ligne_pascal(n):\n",
    "    ligne = [1]\n",
    "    for _ in range(n-1):\n",
    "        ligne = [1] + [ligne[i] + ligne[i+1] for i in range(len(ligne)-1)] + [1]\n",
    "    return ligne"
   ]
  },
  {
   "cell_type": "code",
   "execution_count": null,
   "metadata": {},
   "outputs": [],
   "source": [
    "def triangle_pascal(n):\n",
    "    ligne = [1]\n",
    "    print(ligne)\n",
    "    for _ in range(n-1):\n",
    "        ligne = [1] + [ligne[i] + ligne[i+1] for i in range(len(ligne)-1)] + [1]\n",
    "        print(ligne)"
   ]
  },
  {
   "cell_type": "code",
   "execution_count": null,
   "metadata": {},
   "outputs": [],
   "source": [
    "def parties(ensemble):\n",
    "    if ensemble == []:\n",
    "        return [[]]\n",
    "    else:\n",
    "        x = ensemble.pop()\n",
    "        resultat = []\n",
    "        for partie in parties(ensemble):\n",
    "            resultat.append([x] + partie)\n",
    "            resultat.append(partie)\n",
    "        return resultat"
   ]
  },
  {
   "cell_type": "code",
   "execution_count": null,
   "metadata": {},
   "outputs": [],
   "source": [
    "import random\n",
    "\n",
    "def permutation_aleatoire(ensemble):\n",
    "    resultat = []\n",
    "    for _ in range(len(ensemble)):\n",
    "        index_tire = random.randrange(len(ensemble))\n",
    "        element_tire = ensemble.pop(index_tire)\n",
    "        resultat.append(element_tire)\n",
    "    return resultat"
   ]
  }
 ],
 "metadata": {
  "kernelspec": {
   "display_name": "Python 3",
   "language": "python",
   "name": "python3"
  },
  "language_info": {
   "name": "python",
   "version": "3.11.3"
  },
  "orig_nbformat": 4
 },
 "nbformat": 4,
 "nbformat_minor": 2
}
