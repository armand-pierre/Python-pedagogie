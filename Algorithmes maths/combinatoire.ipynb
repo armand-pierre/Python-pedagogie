{
 "cells": [
  {
   "attachments": {},
   "cell_type": "markdown",
   "metadata": {},
   "source": [
    "# Combinatoire "
   ]
  },
  {
   "attachments": {},
   "cell_type": "markdown",
   "metadata": {},
   "source": [
    "## Coefficients binomiaux\n",
    "\n",
    "En combinatoire, dans la distribution ou même en algèbre, les coefficients binomiaux ont une place importante en mathématiques. Connus depuis le Xe siècle en Inde sous la forme du triangle de Pascal, il est popularisé en Europe par le mathématicien Blaise Pascal, d'où le nom du malheureux triangle.\n",
    "\n",
    "La formule de Pascal nous donne cette propriété:\n",
    "\n",
    "$$\\binom{n}{k-1} + \\binom{n}{k} = \\binom{n+1}{k}$$\n",
    "\n",
    "De plus, $\\binom{n}{1} = 1$ et $\\binom{n}{n} = 1$.\n",
    "\n",
    "A partir de cela, nous allons créer un algorithme qui prend en entrée `n` et renvoie la ligne des $\\binom{n}{k}$ avec $k \\leq n$. Pour cela:\n",
    "- nous allons commencer par la première ligne, `[1]`\n",
    "- Pour calculer la suivante:\n",
    "    - pour $k=1$ et $k=n$, les bouts de lignes, nous allons simplement mettre 1.\n",
    "    - le reste peut être calculé avec la formule de Pascal à partir de la ligne d'avant.\n",
    "- On reccommence jusqu'à avoir la $n$ ième ligne !"
   ]
  },
  {
   "cell_type": "code",
   "execution_count": 23,
   "metadata": {},
   "outputs": [],
   "source": [
    "def ligne_pascal(n):\n",
    "    ligne = [1]\n",
    "    for _ in range(n-1):\n",
    "        ligne = [1] + [ligne[i] + ligne[i+1] for i in range(len(ligne)-1)] + [1]\n",
    "    return ligne"
   ]
  },
  {
   "attachments": {},
   "cell_type": "markdown",
   "metadata": {},
   "source": [
    "On peut aussi écrire une fonction, plus longue, qui va effectuer le même travail, mais aussi afficher joliment tout le triangle: "
   ]
  },
  {
   "cell_type": "code",
   "execution_count": 24,
   "metadata": {},
   "outputs": [
    {
     "name": "stdout",
     "output_type": "stream",
     "text": [
      "              1               \n",
      "             1 1              \n",
      "            1 2 1             \n",
      "           1 3 3 1            \n",
      "          1 4 6 4 1           \n",
      "        1 5 10 10 5 1         \n",
      "       1 6 15 20 15 6 1       \n",
      "     1 7 21 35 35 21 7 1      \n",
      "    1 8 28 56 70 56 28 8 1    \n"
     ]
    }
   ],
   "source": [
    "def triangle_pascal(n):\n",
    "    ligne = [1]\n",
    "    for _ in range(n-1):\n",
    "        print(\" \".join(str(num) for num in ligne).center(3*n, \" \"))\n",
    "        ligne = [1] + [ligne[i] + ligne[i+1] for i in range(len(ligne)-1)] + [1]\n",
    "\n",
    "triangle_pascal(10)"
   ]
  },
  {
   "attachments": {},
   "cell_type": "markdown",
   "metadata": {},
   "source": [
    "Et maintenant, en coloriant uniquement les nombres impairs, tadaaam ! Nous obtenons le très beau traingle de Sierpinsky !"
   ]
  },
  {
   "cell_type": "code",
   "execution_count": 25,
   "metadata": {},
   "outputs": [
    {
     "name": "stdout",
     "output_type": "stream",
     "text": [
      "                             #                              \n",
      "                            # #                             \n",
      "                           #   #                            \n",
      "                          # # # #                           \n",
      "                         #       #                          \n",
      "                        # #     # #                         \n",
      "                       #   #   #   #                        \n",
      "                      # # # # # # # #                       \n",
      "                     #               #                      \n",
      "                    # #             # #                     \n",
      "                   #   #           #   #                    \n",
      "                  # # # #         # # # #                   \n",
      "                 #       #       #       #                  \n",
      "                # #     # #     # #     # #                 \n",
      "               #   #   #   #   #   #   #   #                \n",
      "              # # # # # # # # # # # # # # # #               \n",
      "             #                               #              \n",
      "            # #                             # #             \n",
      "           #   #                           #   #            \n",
      "          # # # #                         # # # #           \n",
      "         #       #                       #       #          \n",
      "        # #     # #                     # #     # #         \n",
      "       #   #   #   #                   #   #   #   #        \n",
      "      # # # # # # # #                 # # # # # # # #       \n",
      "     #               #               #               #      \n",
      "    # #             # #             # #             # #     \n",
      "   #   #           #   #           #   #           #   #    \n",
      "  # # # #         # # # #         # # # #         # # # #   \n",
      " #       #       #       #       #       #       #       #  \n"
     ]
    }
   ],
   "source": [
    "def triangle_sierpinsky(n):\n",
    "    ligne = [1]\n",
    "    for _ in range(n-1):\n",
    "        print(\" \".join(\"#\" if num%2 else \" \" for num in ligne).center(2*n, \" \"))\n",
    "        ligne = [1] + [ligne[i] + ligne[i+1] for i in range(len(ligne)-1)] + [1]\n",
    "\n",
    "triangle_sierpinsky(30)"
   ]
  },
  {
   "attachments": {},
   "cell_type": "markdown",
   "metadata": {},
   "source": [
    "## Enumérer les parties d'un ensemble\n",
    "\n",
    "Parmi les nombreuses questions que l'on rencontre aux premiers cours de combinatoire, il y a celle-ci: combien de parties d'un ensemble puis-je créer ?\n",
    "\n",
    "Par exemple, les parties de ${0,1}$ sont ${}=\\varnothing$, ${0}$, ${1}$ et ${0,1}$. Combien y en a-t-il pour ${0,1,2}$, voir bien plus ?\n",
    "\n",
    "Une manière naïve de chercher serait de tous les énumerer, et pour cela, procédons ainsi:\n",
    "- Tout d'abord, $\\varnothing={}$ n'a qu'une seule partie, lui-même\n",
    "- Ajoutons $x$ à cet ensemble et regardons quelles être les nouvelles parties:\n",
    "    - Si $P$ était une partie de l'ancien ensemble, elle est aussi une du nouveau\n",
    "    - Mais $P \\cup {x}$, l'ensemble qui contient les éléments de $P$ *et* $x$ l'est aussi\n",
    "    - Donc, dans l'ensemble des nouvelles parties, on ajoute $P$ et $P \\cup {x}$\n",
    "- On répète, en ajoutant à l'ensemble dont on cherche les parties petit à petit chaque élément souhaité.\n",
    "\n",
    "Traduit en Python, cela donne cet algorithme:"
   ]
  },
  {
   "cell_type": "code",
   "execution_count": 26,
   "metadata": {},
   "outputs": [
    {
     "data": {
      "text/plain": [
       "[[],\n",
       " [3],\n",
       " [2],\n",
       " [2, 3],\n",
       " [1],\n",
       " [1, 3],\n",
       " [1, 2],\n",
       " [1, 2, 3],\n",
       " [0],\n",
       " [0, 3],\n",
       " [0, 2],\n",
       " [0, 2, 3],\n",
       " [0, 1],\n",
       " [0, 1, 3],\n",
       " [0, 1, 2],\n",
       " [0, 1, 2, 3]]"
      ]
     },
     "execution_count": 26,
     "metadata": {},
     "output_type": "execute_result"
    }
   ],
   "source": [
    "def parties(ensemble):\n",
    "    ensemble_parties = [[]]\n",
    "    for x in ensemble:\n",
    "        suivant = []\n",
    "        for partie in ensemble_parties:\n",
    "            suivant.append(partie)\n",
    "            suivant.append(partie + [x])\n",
    "        ensemble_parties = suivant[:]\n",
    "    return ensemble_parties\n",
    "\n",
    "parties([0, 1, 2, 3])"
   ]
  },
  {
   "attachments": {},
   "cell_type": "markdown",
   "metadata": {},
   "source": [
    "On peut alors calculer le nombre de parties possibles d'un ensemble !"
   ]
  },
  {
   "cell_type": "code",
   "execution_count": 27,
   "metadata": {},
   "outputs": [
    {
     "name": "stdout",
     "output_type": "stream",
     "text": [
      "64\n"
     ]
    }
   ],
   "source": [
    "print(len(parties([0, 1, 2, 3, 4, 5])))"
   ]
  },
  {
   "attachments": {},
   "cell_type": "markdown",
   "metadata": {},
   "source": [
    "Les résultats deviennent rapidement très grands, et pour cause ! Le nombre de parties d'un ensemble de cardinal $n$ possède $2^n$ parties..."
   ]
  },
  {
   "attachments": {},
   "cell_type": "markdown",
   "metadata": {},
   "source": [
    "## Permutations\n",
    "\n",
    "Une permutation est, informellement, une façon d'arranger dans un certain ordre les éléments d'un ensemble. Nous pouvons alors chercher un algorithme permettant d'obtenir une permutation."
   ]
  },
  {
   "cell_type": "code",
   "execution_count": 28,
   "metadata": {},
   "outputs": [
    {
     "data": {
      "text/plain": [
       "['vert', 'bleu', 'rouge']"
      ]
     },
     "execution_count": 28,
     "metadata": {},
     "output_type": "execute_result"
    }
   ],
   "source": [
    "import random\n",
    "\n",
    "def permutation_aleatoire(ensemble):\n",
    "    resultat = []\n",
    "    for _ in range(len(ensemble)):\n",
    "        index_tire = random.randrange(len(ensemble))\n",
    "        element_tire = ensemble.pop(index_tire)\n",
    "        resultat.append(element_tire)\n",
    "    return resultat\n",
    "\n",
    "permutation_aleatoire([\"rouge\", \"bleu\", \"vert\"])"
   ]
  },
  {
   "attachments": {},
   "cell_type": "markdown",
   "metadata": {},
   "source": [
    "Nous pouvons aussi nous demander encore une fois combien de permutations existent-il. Pour cela, énumérons-les, de manière analogue à précédemment:\n",
    "- Il n'existe qu'une seule permutation d'un ensemble vide, `[]`\n",
    "- Ajoutons l'élément `x` et regardons:\n",
    "    - Si `P=[...]` est une permutation de l'ancien ensemble, alors `P` auquel on ajoute `x` à n'importe quel position `i` est une permutation du nouvel ensemble.\n",
    "- On répète alors, en ajoutant petit à petit les éléments souhaités."
   ]
  },
  {
   "cell_type": "code",
   "execution_count": 29,
   "metadata": {},
   "outputs": [
    {
     "data": {
      "text/plain": [
       "[['vert', 'bleu', 'rouge'],\n",
       " ['bleu', 'vert', 'rouge'],\n",
       " ['bleu', 'rouge', 'vert'],\n",
       " ['vert', 'rouge', 'bleu'],\n",
       " ['rouge', 'vert', 'bleu'],\n",
       " ['rouge', 'bleu', 'vert']]"
      ]
     },
     "execution_count": 29,
     "metadata": {},
     "output_type": "execute_result"
    }
   ],
   "source": [
    "def permutations(ensemble):\n",
    "    resultat = [[]]\n",
    "    for x in ensemble:\n",
    "        suivant = []\n",
    "        for permutation in resultat:\n",
    "            for i in range(len(permutation)+1):\n",
    "                suivant.append(permutation[:i] + [x] + permutation[i:])\n",
    "        resultat = suivant[:]\n",
    "    return resultat\n",
    "\n",
    "permutations([\"rouge\", \"bleu\", \"vert\"])"
   ]
  },
  {
   "attachments": {},
   "cell_type": "markdown",
   "metadata": {},
   "source": [
    "Ici, pareil, le nombre de permutations va devenir rapidement gigantesque, car le nombre de permutations d'un ensemble de cardinal $n$ est $n!$..."
   ]
  }
 ],
 "metadata": {
  "kernelspec": {
   "display_name": "Python 3",
   "language": "python",
   "name": "python3"
  },
  "language_info": {
   "codemirror_mode": {
    "name": "ipython",
    "version": 3
   },
   "file_extension": ".py",
   "mimetype": "text/x-python",
   "name": "python",
   "nbconvert_exporter": "python",
   "pygments_lexer": "ipython3",
   "version": "3.11.3"
  },
  "orig_nbformat": 4
 },
 "nbformat": 4,
 "nbformat_minor": 2
}
