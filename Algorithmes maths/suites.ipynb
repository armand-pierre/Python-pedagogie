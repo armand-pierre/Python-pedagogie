{
 "cells": [
  {
   "attachments": {},
   "cell_type": "markdown",
   "metadata": {},
   "source": [
    "# Suites\n",
    "\n",
    "Les suites sont un très grand classique d'exemples de programmes en Python. Sujet en or permettant d'introduire facilement la notion d'itération et dans lequel le calcul par ordinateur peut remplacer un pénible calcul à la main, beaucoup d'algorithmes en cours de mathématiques au lycée en utilisent."
   ]
  },
  {
   "attachments": {},
   "cell_type": "markdown",
   "metadata": {},
   "source": [
    "## Recherche d'un seuil\n",
    "\n",
    "Algorithme de base, il est **extrêmement** utilisé, en cours comme au baccalauréat, le *connaitre*, le *comprendre* et savoir le *réécrire* même approximativement, d'autant plus qu'il est extrêment simple, est **vital**.\n",
    "\n",
    "Ayant une suite $(u_n)_{n \\in \\mathbb{N}}$, recherchons le seuil de dépassement de $l \\in \\mathbb{R}$, c'est-à-dire le plus petit entier $m$ tels que $u_m \\geq l$. L'idée est alors que calculer les termes de la suite jusqu'à ce que la limite soit dépassée."
   ]
  },
  {
   "cell_type": "code",
   "execution_count": 1,
   "metadata": {},
   "outputs": [],
   "source": [
    "def seuil(suite, limite):\n",
    "    n = 0\n",
    "    while suite(n) < limite:\n",
    "        n += 1\n",
    "    return n, suite(n)"
   ]
  },
  {
   "attachments": {},
   "cell_type": "markdown",
   "metadata": {},
   "source": [
    "Si la suite est définie par récurrence, le programme sera plutôt sous cette forme."
   ]
  },
  {
   "cell_type": "code",
   "execution_count": 2,
   "metadata": {},
   "outputs": [],
   "source": [
    "def seuil_recurrence(f, u0, limite):\n",
    "    u = u0\n",
    "    n = 0\n",
    "    while u < limite:\n",
    "        u = f(u)\n",
    "        n += 1\n",
    "    return n, u"
   ]
  },
  {
   "attachments": {},
   "cell_type": "markdown",
   "metadata": {},
   "source": [
    "Tous les programmes de recherche d'un seuil sont de cette forme, à quelques variations près. Par exemple, on peut vouloir que $u_m \\leq l$.\n",
    "\n",
    "**Attention**: Assurez-vous que la suite atteindra bel et bien ce seuil, **sinon la fonction bouclera indéfiniment**."
   ]
  },
  {
   "attachments": {},
   "cell_type": "markdown",
   "metadata": {},
   "source": [
    "## Méthode de Héron\n",
    "\n",
    "Un algorithme plus intéressant est celui de la [Méthode de Héron](https://fr.wikipedia.org/wiki/M%C3%A9thode_de_H%C3%A9ron), qui nous donne la première (enfin!) méthode pour calculer des racines carrés.\n",
    "\n",
    "Afin de construire étape par étape un carré d'aire $a$, nous pouvons partir d'un rectangle de longueur $a$ et largeur $1$. Afin de diminuer l'écart entre largeur et longueur, on décide d'effectuer la moyenne de ces deux côtés, que la longueur ait cette valeur et la largeur, toujours, $\\mathit{largeur} = \\frac{a}{\\mathit{longueur}}$. Et on répète ainsi le processus, la figure \"s'approchant\" de plus en plus d'un carré de longueur $\\sqrt{a}$.\n",
    "\n",
    "Ainsi, nous définissos la suite $(l_n)_{n\\in \\mathbb{N}}$ tels que\n",
    "$$l_0 = a \\text{ et pour tout } n \\in \\mathbb{N}, l_{n+1} = \\frac{l_n + \\frac{a}{l_n}}{2}$$\n",
    "\n",
    "> Exercice: En analysant la fonction $f(x)=\\frac{x+\\frac{a}{x}}{2}$, montrer que $\\lim_{n \\to +\\infty} l_n = \\sqrt{a}$. Cet exercice est un très bon entrainement sur la récurrence, et sert en plus à quelque chose d'utile qui est de quand même avoir une manière de calculer des racines carrés."
   ]
  },
  {
   "cell_type": "code",
   "execution_count": 3,
   "metadata": {},
   "outputs": [],
   "source": [
    "def racine_carre(x, iterations=30):\n",
    "    longueur, largeur = x, 1\n",
    "    for _ in range(iterations):\n",
    "        longueur = (longueur+largeur)/2\n",
    "        largeur = x/longueur\n",
    "    return longueur"
   ]
  },
  {
   "attachments": {},
   "cell_type": "markdown",
   "metadata": {},
   "source": [
    "Cet algorithme donne avec peu d'itérations de très bons résultats, comme on peut le voir ici: moins de 10 itérations donnent un bon résultat tout à fait viable !"
   ]
  },
  {
   "cell_type": "code",
   "execution_count": 8,
   "metadata": {},
   "outputs": [
    {
     "data": {
      "image/png": "[encoded data removed]",
      "text/plain": [
       "<Figure size 640x480 with 1 Axes>"
      ]
     },
     "metadata": {},
     "output_type": "display_data"
    }
   ],
   "source": [
    "import matplotlib.pyplot as plt\n",
    "from math import sqrt\n",
    "\n",
    "x = list(range(1, 20))\n",
    "plt.plot([abs(sqrt(2) - racine_carre(2, iterations=i))/sqrt(2) * 100 for i in x])\n",
    "plt.xlabel(\"Nombre d'itérations\")\n",
    "plt.ylabel(\"Pourcentage d'erreur\")\n",
    "plt.show()"
   ]
  },
  {
   "attachments": {},
   "cell_type": "markdown",
   "metadata": {},
   "source": [
    "## Suite de Fibonacci\n",
    "\n",
    "Une suite très connue et très appréciées des mathématiciens amateurs est la [suite de Fibonacci](https://fr.wikipedia.org/wiki/Suite_de_Fibonacci), introduite en Italie à la Renaissance par [Léonard de Pise](https://fr.wikipedia.org/wiki/Leonardo_Fibonacci) dans un problème de lapins.\n",
    "\n",
    "La suite $(F_n)_{n \\in \\mathbb{N}}$ est définie ainsi:\n",
    "$$u_0 = 0, u_1=1$$\n",
    "$$u_{n+2} = u_{n+1} + u_n$$\n",
    "\n",
    "Cette suite, définie assez simplement, possède de très nombreuses propriétés intéressantes, et est un exercice classique de programmation. L'idée est la suivante:\n",
    "- Nous aurons deux variables `resultat` et `suivant`: `suivant` est le terme d'après.\n",
    "- A chaque itération, `resultat` prend la valeur `suivant` et `suivant = suivant + resultat`\n",
    "- On renvoie `resultat`: on aura calculé le terme d'après, mais pas grave..."
   ]
  },
  {
   "cell_type": "code",
   "execution_count": 5,
   "metadata": {},
   "outputs": [],
   "source": [
    "def fibonacci(n):\n",
    "    resultat, suivant = 0, 1\n",
    "    for _ in range(n):\n",
    "        resultat, suivant = suivant, resultat+suivant\n",
    "    return resultat\n",
    "\n",
    "def approx_phi(iterations=100):\n",
    "    return fibonacci(iterations+1)/fibonacci(iterations)"
   ]
  },
  {
   "attachments": {},
   "cell_type": "markdown",
   "metadata": {},
   "source": [
    "On peut alors afficher les premiers termes de la suite:"
   ]
  },
  {
   "cell_type": "code",
   "execution_count": 10,
   "metadata": {},
   "outputs": [
    {
     "name": "stdout",
     "output_type": "stream",
     "text": [
      "[0, 1, 1, 2, 3, 5, 8, 13, 21, 34, 55, 89, 144, 233, 377, 610, 987, 1597, 2584, 4181]\n"
     ]
    }
   ],
   "source": [
    "print([fibonacci(i) for i in range(20)])"
   ]
  },
  {
   "attachments": {},
   "cell_type": "markdown",
   "metadata": {},
   "source": [
    "Une des propriétés qu'apprécie beaucoup les mathématiciens, mais aussi les artistes, c'est que le rapport entre deux termes successifs tend vers $\\phi = \\frac{1+\\sqrt{5}}{2} \\approx 1,618...$, le [nombre d'or](https://fr.wikipedia.org/wiki/Nombre_d%27or), étant (trop?) considéré par certains comme le rapport parfait entre les choses.\n",
    "\n",
    "Sans le démontrer ici, nous pouvons le constater avec un graphique."
   ]
  },
  {
   "cell_type": "code",
   "execution_count": 13,
   "metadata": {},
   "outputs": [
    {
     "data": {
      "image/png": "[encoded data removed]",
      "text/plain": [
       "<Figure size 640x480 with 1 Axes>"
      ]
     },
     "metadata": {},
     "output_type": "display_data"
    }
   ],
   "source": [
    "import matplotlib.pyplot as plt\n",
    "\n",
    "def approx_phi(n):\n",
    "    return fibonacci(n+1)/fibonacci(n)\n",
    "\n",
    "x = list(range(1, 20))\n",
    "y = [approx_phi(i) for i in x]\n",
    "plt.scatter(x, y)\n",
    "plt.xlabel(\"n\")\n",
    "plt.ylabel(\"Rapport entre termes\")\n",
    "plt.show()"
   ]
  },
  {
   "cell_type": "code",
   "execution_count": null,
   "metadata": {},
   "outputs": [],
   "source": []
  }
 ],
 "metadata": {
  "kernelspec": {
   "display_name": "Python 3",
   "language": "python",
   "name": "python3"
  },
  "language_info": {
   "codemirror_mode": {
    "name": "ipython",
    "version": 3
   },
   "file_extension": ".py",
   "mimetype": "text/x-python",
   "name": "python",
   "nbconvert_exporter": "python",
   "pygments_lexer": "ipython3",
   "version": "3.11.3"
  },
  "orig_nbformat": 4
 },
 "nbformat": 4,
 "nbformat_minor": 2
}
