{
 "cells": [
  {
   "cell_type": "code",
   "execution_count": null,
   "metadata": {},
   "outputs": [],
   "source": [
    "def dichotomie(f, a, b, x, ecart=0.001):\n",
    "    while abs(a - b) > ecart:\n",
    "        c = (a+b)/2\n",
    "        if f(c) > x:\n",
    "            b = c\n",
    "        else:\n",
    "            a = c\n",
    "    return (a, b)"
   ]
  },
  {
   "cell_type": "code",
   "execution_count": null,
   "metadata": {},
   "outputs": [],
   "source": [
    "def derive(f, x, h=0.0001):\n",
    "    return (f(x) - f(x+h)) / h\n",
    "\n",
    "def newton(f, x, iterations=100):\n",
    "    for _ in range(iterations):\n",
    "        x = x - derive(f, x) / f(x)\n",
    "    return x"
   ]
  }
 ],
 "metadata": {
  "language_info": {
   "name": "python"
  },
  "orig_nbformat": 4
 },
 "nbformat": 4,
 "nbformat_minor": 2
}
