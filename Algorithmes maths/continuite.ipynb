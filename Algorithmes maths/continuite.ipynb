{
 "cells": [
  {
   "attachments": {},
   "cell_type": "markdown",
   "metadata": {},
   "source": [
    "# Continuité"
   ]
  },
  {
   "attachments": {},
   "cell_type": "markdown",
   "metadata": {},
   "source": [
    "## Algorithme de dichotomie\n",
    "\n",
    "**Algorithme important à maitriser**, la dichotomie a le bon goût d'être une démonstration du TVI programmable et très efficace en pratique pour trouver des solutions approchées d'équations !\n",
    "\n",
    "Soit $f$ une fonction continue sur $[a,b]$, et $k$ tels que $f(a) \\leq k \\leq f(b)$. Pour simplifier, nous allons alors poser $g(x) = f(x) - k$, ainsi nous devrons chercher une solution $g(x) = 0$:\n",
    "- Tout d'abord, posons $a_0=a$ et $b_0=b$.\n",
    "- Ensuite, pour tout $n \\in \\mathbb{N}$, posons $c_n=\\frac{a_n+b_n}{2}$. On pose alors, pour tout $n \\in \\mathbb{N}$, $a_{n+1} = c_n$ si $g(a_n) \\times g(c_n) > 0$ (autrement dit, si $g(a_n)$ et $g(c_n)$ sont de même signe), $a_{n+1}=a_n$ sinon. De même pour $(b_n)_{n\\in \\mathbb{N}}$.\n",
    "\n",
    "On démontre alors que pour tout $n \\in \\mathbb{N}$, $a \\leq a_n \\leq b_n \\leq b$, que les suites $(a_n)_{n\\in \\mathbb{N}}$ et $(b_n)_{n\\in \\mathbb{N}}$ convergent et que pour tout $n \\in \\mathbb{N}$, $f(a_n) \\leq k \\leq f(b_n)$, donc par théorème des gendarmes, les suites convergent vers $l \\in [a,b]$ tels que $f(l) = k$.\n",
    "\n",
    "L'avantage ici est que l'algorithme procède par itérations successives, ce qui permet d'être facilement programmées."
   ]
  },
  {
   "cell_type": "code",
   "execution_count": 1,
   "metadata": {},
   "outputs": [
    {
     "name": "stdout",
     "output_type": "stream",
     "text": [
      "(1.3983154296875, 1.39892578125)\n"
     ]
    }
   ],
   "source": [
    "def dichotomie(f, a, b, k, ecart=0.001):\n",
    "    \"\"\"Renvoie un encadrement l tels que f(l)=k à `ecart` près.\n",
    "\n",
    "    k: Nombre compris dans l'intervalle [a,b]\n",
    "    f: Fonction continue sur [a,b]\n",
    "    \"\"\"\n",
    "    assert a <= k <= b, \"k n'est pas dans [a,b].\"\n",
    "\n",
    "    # Fonction dont on devra trouver une racine\n",
    "    def g(x):\n",
    "        return f(x) - k\n",
    "\n",
    "    while abs(a - b) > ecart:\n",
    "        # Calcul du milieu c de l'intervalle\n",
    "        c = (a+b)/2\n",
    "        # Si g(c) est de même signe que g(a)\n",
    "        if g(c) * g(a) > 0:\n",
    "            a = c\n",
    "        else:\n",
    "            b = c\n",
    "    # Renvoie un encadrement \"dans le bon sens\"\n",
    "    return (min(a,b), max(a,b))\n",
    "\n",
    "def f(x):\n",
    "    return 3 * x**3 + 2 * x - 6\n",
    "\n",
    "print(dichotomie(f, 0, 10, k = 5))"
   ]
  },
  {
   "attachments": {},
   "cell_type": "markdown",
   "metadata": {},
   "source": [
    "Vous remarquerez la vitesse d'exécution de la fonction, qui est presque instantanée. En effet, à chaque itération, la longueur de l'encadrement est divisé par 2, ce qui fait qu'elle converge très rapidement !\n",
    "\n",
    "L'algorithme de dichotomie est utilisable dans tout un tas de contextes: on peut le retrouver aussi pour trouver rapidement un élément dans une liste triée."
   ]
  },
  {
   "cell_type": "code",
   "execution_count": 21,
   "metadata": {},
   "outputs": [
    {
     "name": "stdout",
     "output_type": "stream",
     "text": [
      "[2, 3, 4, 5, 7, 22]\n",
      "[5, 7, 22]\n",
      "False\n",
      "[-2, 4, 5, 6, 7, 10]\n",
      "[-2, 4, 5]\n",
      "[-2, 4]\n",
      "True\n"
     ]
    }
   ],
   "source": [
    "def est_dedans(liste, element):\n",
    "    \"\"\"Renvoie l'index de element dans liste s'il est contenu,\n",
    "    None sinon.\n",
    "    \"\"\"\n",
    "    # Trie la liste\n",
    "    liste = sorted(liste)\n",
    "    # Premier intervalle de recherche\n",
    "    a, b = 0, len(liste)-1\n",
    "    while a < b:\n",
    "        m = (a+b) // 2\n",
    "        # Déplace l'intervalle dans la \"bonne\" moitié\n",
    "        if liste[m] < element:\n",
    "            a = m+1  # Car liste[m] != element\n",
    "        else:\n",
    "            b = m\n",
    "    # Renvoie le résultat de la comparaison à element\n",
    "    return liste[a] == element\n",
    "\n",
    "print(est_dedans([2, 5, 7, 3, 4, 22], 9))\n",
    "print(est_dedans([4, 6, 7, 10, 5, -2], 4))"
   ]
  },
  {
   "attachments": {},
   "cell_type": "markdown",
   "metadata": {},
   "source": [
    "## Méthode de Newton\n",
    "\n"
   ]
  },
  {
   "cell_type": "code",
   "execution_count": null,
   "metadata": {},
   "outputs": [],
   "source": [
    "def derive(f, x, h=0.0001):\n",
    "    \"\"\"Renvoie une valeur approchée de f'(x).\"\"\"\n",
    "    return (f(x) - f(x+h)) / h\n",
    "\n",
    "def newton(f, x, iterations=100):\n",
    "    \"\"\"Renvoie une racine de f.\"\"\"\n",
    "    for _ in range(iterations):\n",
    "        x = x - derive(f, x) / f(x)\n",
    "    return x"
   ]
  }
 ],
 "metadata": {
  "kernelspec": {
   "display_name": "Python 3",
   "language": "python",
   "name": "python3"
  },
  "language_info": {
   "codemirror_mode": {
    "name": "ipython",
    "version": 3
   },
   "file_extension": ".py",
   "mimetype": "text/x-python",
   "name": "python",
   "nbconvert_exporter": "python",
   "pygments_lexer": "ipython3",
   "version": "3.11.3"
  },
  "orig_nbformat": 4
 },
 "nbformat": 4,
 "nbformat_minor": 2
}
